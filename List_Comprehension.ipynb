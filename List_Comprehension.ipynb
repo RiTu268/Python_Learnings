{
  "nbformat": 4,
  "nbformat_minor": 0,
  "metadata": {
    "colab": {
      "name": "List_Comprehension.ipynb",
      "provenance": [],
      "collapsed_sections": [],
      "authorship_tag": "ABX9TyOl0LoAXTt4evhadq3c+ZJh"
    },
    "kernelspec": {
      "name": "python3",
      "display_name": "Python 3"
    },
    "language_info": {
      "name": "python"
    }
  },
  "cells": [
    {
      "cell_type": "markdown",
      "source": [
        "# What is a list comprehension?\n",
        "\n",
        "--> It's a Python expression that builds a list. List comprehensions provide a very convenient syntax to generate simple lists.\n",
        "\n",
        "--> It's just like rewriting the for loop with single line of code. Hence, less lines of code.\n",
        "\n",
        "--> Loops require you to focus on how the list is created. You have to manually create an empty list, loop over the elements, and add each of them to the end of the list. With a list comprehension in Python, you can instead focus on what you want to go in the list and trust that Python will take care of how the list construction takes place.\n",
        "\n",
        "--> Easier to understand and faster than a for loop."
      ],
      "metadata": {
        "id": "I2l1-0rCQfge"
      }
    },
    {
      "cell_type": "markdown",
      "source": [
        "# Synatax: [func(elem) for elem in iterable if cond(elem)]\n",
        "\n",
        "--> func(elem): Process each element. The function call represent any valid python expression.\n",
        "\n",
        "--> elem: Temporary variable holding each element of the iterable.\n",
        "\n",
        "--> iterable: (list,string,..) that we want to traverse.\n",
        "\n",
        "--> cond(elem): (Optional) Condition to filter each element."
      ],
      "metadata": {
        "id": "Kju_uuff9E_f"
      }
    },
    {
      "cell_type": "markdown",
      "source": [
        "# Examples:"
      ],
      "metadata": {
        "id": "cAkce0b7BMuw"
      }
    },
    {
      "cell_type": "code",
      "source": [
        "# Example-1: Making list which contains 0 to 9 elements by using for loop and list comprehension. \n",
        "\n",
        "#Using For Loop:\n",
        "numbers=[]\n",
        "for i in range(10):\n",
        "  numbers.append(i)\n",
        "print(\"Using For Loop:\",numbers)\n",
        "\n",
        "#Using List Comprehension:\n",
        "num = [i for i in range(10)]\n",
        "print(\"Using List Comprehension:\",num)"
      ],
      "metadata": {
        "colab": {
          "base_uri": "https://localhost:8080/"
        },
        "id": "DFM1EoHrQRpm",
        "outputId": "64c4e807-99bf-421d-bb4f-bcf59e30592c"
      },
      "execution_count": null,
      "outputs": [
        {
          "output_type": "stream",
          "name": "stdout",
          "text": [
            "Using For Loop: [0, 1, 2, 3, 4, 5, 6, 7, 8, 9]\n",
            "Using List Comprehension: [0, 1, 2, 3, 4, 5, 6, 7, 8, 9]\n"
          ]
        }
      ]
    },
    {
      "cell_type": "code",
      "source": [
        "#Example-2: Applying some calcualtion to element of list via for loop and list comprehension. \n",
        "\n",
        "#Using For Loop:\n",
        "numbers=[]\n",
        "for i in range(10):\n",
        "  numbers.append(1 + i** 2)\n",
        "print(\"Using For Loop:\",numbers)\n",
        "\n",
        "#Using List Comprehension:\n",
        "num = [1 + i**2 for i in range(10)]\n",
        "print(\"Using List Comprehension:\",num)"
      ],
      "metadata": {
        "colab": {
          "base_uri": "https://localhost:8080/"
        },
        "id": "OIk5f1mePkJ8",
        "outputId": "c2063f0a-3418-4b3a-c17f-6a9510cc92ca"
      },
      "execution_count": null,
      "outputs": [
        {
          "output_type": "stream",
          "name": "stdout",
          "text": [
            "Using For Loop: [1, 2, 5, 10, 17, 26, 37, 50, 65, 82]\n",
            "Using List Comprehension: [1, 2, 5, 10, 17, 26, 37, 50, 65, 82]\n"
          ]
        }
      ]
    },
    {
      "cell_type": "code",
      "source": [
        "#Example-3: Separating each single letter from a given string by using for loop and list comprehension. \n",
        "\n",
        "#Using For Loop:\n",
        "string = \"Hello There!!\"\n",
        "char=[]\n",
        "for i in string:\n",
        "  char.append(i)\n",
        "print(\"Using For Loop:\",char)\n",
        "\n",
        "#Using List Comprehension:\n",
        "char = [i for i in string]\n",
        "print(\"Using List Comprehension:\",char)"
      ],
      "metadata": {
        "colab": {
          "base_uri": "https://localhost:8080/"
        },
        "id": "ZZRfbGsSRbMH",
        "outputId": "811d2253-9c85-43b1-c6de-c069888a712d"
      },
      "execution_count": null,
      "outputs": [
        {
          "output_type": "stream",
          "name": "stdout",
          "text": [
            "Using For Loop: ['H', 'e', 'l', 'l', 'o', ' ', 'T', 'h', 'e', 'r', 'e', '!', '!']\n",
            "Using List Comprehension: ['H', 'e', 'l', 'l', 'o', ' ', 'T', 'h', 'e', 'r', 'e', '!', '!']\n"
          ]
        }
      ]
    },
    {
      "cell_type": "code",
      "source": [
        "#Example-4: Doubling each letter from a string and separating it via for loop and list comprehension\n",
        "\n",
        "#Using For Loop:\n",
        "string = \"Hello There!!\"\n",
        "doubled=[]\n",
        "for i in string:\n",
        "  doubled.append(2*i)\n",
        "print(\"Using For Loop:\",doubled)\n",
        "\n",
        "#Using List Comprehension:\n",
        "doubled = [2*i for i in string]\n",
        "print(\"Using List Comprehension:\",doubled)"
      ],
      "metadata": {
        "colab": {
          "base_uri": "https://localhost:8080/"
        },
        "id": "EhlDsIGJVvKt",
        "outputId": "c262ebed-f847-4014-fcfb-40e578cf2d63"
      },
      "execution_count": null,
      "outputs": [
        {
          "output_type": "stream",
          "name": "stdout",
          "text": [
            "Using For Loop: ['HH', 'ee', 'll', 'll', 'oo', '  ', 'TT', 'hh', 'ee', 'rr', 'ee', '!!', '!!']\n",
            "Using List Comprehension: ['HH', 'ee', 'll', 'll', 'oo', '  ', 'TT', 'hh', 'ee', 'rr', 'ee', '!!', '!!']\n"
          ]
        }
      ]
    },
    {
      "cell_type": "code",
      "source": [
        "#Example-5: Getting first letter of each word from a given string via for loop and list comprehension\n",
        "\n",
        "#Using For Loop:\n",
        "firsts=[]\n",
        "for i in \"The quick brown box jumps\".split():\n",
        "  firsts.append(i[0]) \n",
        "print(\"Using For Loop:\",firsts)\n",
        "\n",
        "#Using List Comprehension:\n",
        "firsts = [i[0] for i in \"The quick brown box jumps\".split()]\n",
        "print(\"Using List Comprehension:\",firsts)"
      ],
      "metadata": {
        "colab": {
          "base_uri": "https://localhost:8080/"
        },
        "id": "OJFFseFGW-pl",
        "outputId": "d910a00f-9e47-4b1e-a559-91980a74d0c6"
      },
      "execution_count": null,
      "outputs": [
        {
          "output_type": "stream",
          "name": "stdout",
          "text": [
            "Using For Loop: ['T', 'q', 'b', 'b', 'j']\n",
            "Using List Comprehension: ['T', 'q', 'b', 'b', 'j']\n"
          ]
        }
      ]
    },
    {
      "cell_type": "code",
      "source": [
        "#Example-6: Getting key and value of dictionary via for loop and list comprehension.\n",
        "\n",
        "#Using For Loop:\n",
        "dict={\"one\":1, \"two\":2, \"three\":3}\n",
        "dict_keys = []\n",
        "for i in dict:\n",
        "  dict_keys.append(i)\n",
        "print(\"Using For Loop:\",dict_keys)\n",
        "\n",
        "#Using List Comprehension:\n",
        "dict_keys=[key for key in dict]\n",
        "print(\"Using List Comprehension:\",dict_keys)\n",
        "\n",
        "#Now if you want to get values than\n",
        "\n",
        "#Using For Loop:\n",
        "dict_keys = []\n",
        "for i in dict:\n",
        "  dict_keys.append(dict[i])\n",
        "print(\"Using For Loop:\",dict_keys)\n",
        "\n",
        "#Using List Comprehension:\n",
        "dict_keys=[key for key in dict.values()] #or you can write dict[key]\n",
        "print(\"Using List Comprehension:\",dict_keys)\n"
      ],
      "metadata": {
        "colab": {
          "base_uri": "https://localhost:8080/"
        },
        "id": "ORuxFD6QSI6a",
        "outputId": "7e2aff32-ef76-493d-dfc3-cee4aa44a153"
      },
      "execution_count": null,
      "outputs": [
        {
          "output_type": "stream",
          "name": "stdout",
          "text": [
            "Using For Loop: ['one', 'two', 'three']\n",
            "Using List Comprehension: ['one', 'two', 'three']\n",
            "Using For Loop: [1, 2, 3]\n",
            "Using List Comprehension: [1, 2, 3]\n"
          ]
        }
      ]
    },
    {
      "cell_type": "code",
      "source": [
        "#Example-7: Getting indices of a given product from a main dictionary via for loop and list comprehension.\n",
        "\n",
        "#Using For Loop:\n",
        "prd= {\"milk\":1, \"butter\":2, \"coffee\":3, \"water\":4, \"tea\":5, \"bread\":6}\n",
        "prds= [\"tea\",\"bread\",\"water\"]\n",
        "indices=[]\n",
        "for i in prds:\n",
        "  indices.append(prd[i])\n",
        "print(\"Using For Loop:\",indices)\n",
        "\n",
        "#Using List Comprehension:\n",
        "indices = [prd[i] for i in prds] \n",
        "print(\"Using List Comprehension:\",indices)"
      ],
      "metadata": {
        "colab": {
          "base_uri": "https://localhost:8080/"
        },
        "id": "djoYxRCwYfVH",
        "outputId": "ac2b49d8-c81d-4def-d8b1-45ce40b83ff3"
      },
      "execution_count": null,
      "outputs": [
        {
          "output_type": "stream",
          "name": "stdout",
          "text": [
            "Using For Loop: [5, 6, 4]\n",
            "Using List Comprehension: [5, 6, 4]\n"
          ]
        }
      ]
    },
    {
      "cell_type": "code",
      "source": [
        "#Example-8: Getting length of each string in a list via for loop and list comprehension\n",
        "\n",
        "#Using For Loop:\n",
        "names = [\"Harry Potter\", \"Naruto Uzumaki\"]\n",
        "length=[]\n",
        "for i in names:\n",
        "  length.append(len(i))\n",
        "print(\"Using For Loop:\",length)\n",
        "\n",
        "#Using List Comprehension:\n",
        "firsts = [len(i) for i in names]\n",
        "print(\"Using List Comprehension:\",firsts)"
      ],
      "metadata": {
        "colab": {
          "base_uri": "https://localhost:8080/"
        },
        "id": "faLsFaiKbxQV",
        "outputId": "82fa2881-156f-4ef5-ef69-f64d6b1c9430"
      },
      "execution_count": null,
      "outputs": [
        {
          "output_type": "stream",
          "name": "stdout",
          "text": [
            "Using For Loop: [12, 14]\n",
            "Using List Comprehension: [12, 14]\n"
          ]
        }
      ]
    },
    {
      "cell_type": "code",
      "source": [
        "#Example-9: Extracting vowels from a string using for loop and list comprehension.\n",
        "\n",
        "#Using For Loop:\n",
        "vowels=[]\n",
        "for char in \"Hello There\":\n",
        "  if char in \"aeiou\":\n",
        "    vowels.append(char)\n",
        "print(\"Using For Loop:\",vowels)\n",
        "\n",
        "#Using List Comprehension:\n",
        "vowels = [char for char in \"Hello There\" if char in \"aeiou\"]\n",
        "print(\"Using List Comprehension:\",vowels)"
      ],
      "metadata": {
        "colab": {
          "base_uri": "https://localhost:8080/"
        },
        "id": "5ulfgtl1c7PO",
        "outputId": "3b8416e7-8f8d-46a6-e8dc-a5b7ff320bb3"
      },
      "execution_count": null,
      "outputs": [
        {
          "output_type": "stream",
          "name": "stdout",
          "text": [
            "Using For Loop: ['e', 'o', 'e', 'e']\n",
            "Using List Comprehension: ['e', 'o', 'e', 'e']\n"
          ]
        }
      ]
    },
    {
      "cell_type": "code",
      "source": [
        "#Example-10: Applying Conditional statement to get respected output.\n",
        "\n",
        "#Using For Loop:\n",
        "names=[\"Jack\",\"Naruto\"]\n",
        "short=[]\n",
        "for i in names:\n",
        "  if len(i)<=4:\n",
        "    short.append(i)\n",
        "print(\"Using For Loop:\",short)\n",
        "\n",
        "#Using List Comprehension:\n",
        "short=[i for i in names if len(i)<=4]\n",
        "print(\"Using List Comprehension:\",short)"
      ],
      "metadata": {
        "colab": {
          "base_uri": "https://localhost:8080/"
        },
        "id": "tFjldG2zd0qW",
        "outputId": "ff73f336-c5bc-4c13-8b28-7d0fd3fd1116"
      },
      "execution_count": null,
      "outputs": [
        {
          "output_type": "stream",
          "name": "stdout",
          "text": [
            "Using For Loop: ['Jack']\n",
            "Using List Comprehension: ['Jack']\n"
          ]
        }
      ]
    },
    {
      "cell_type": "code",
      "source": [
        "#Example-11: Combine the below 2 list in a way: [\"Red T-shirt\", \"Red Pants\", \"Black T-shirt\", \"Black Pants\"]. (Nested For)\n",
        "\n",
        "clothes = [\"T-shirt\",\"Pants\"]\n",
        "colours = [\"Red\", \"Black\", \"Green\"]\n",
        "combos = []\n",
        "\n",
        "#Using For Loop:\n",
        "for dress in clothes:\n",
        "  for colour in colours:\n",
        "    if colour != 'Green':\n",
        "      combos.append(colour +\" \"+ dress)\n",
        "print(\"Using For Loop:\",combos)\n",
        "\n",
        "#Using List Comprehension:\n",
        "combos=[colour +\" \"+ dress for colour in colours if colour != 'Green' for dress in clothes]\n",
        "print(\"Using List Comprehension:\",combos)"
      ],
      "metadata": {
        "colab": {
          "base_uri": "https://localhost:8080/"
        },
        "id": "eJOKjdk5GDxp",
        "outputId": "f78fe5d1-9808-4462-937e-df22f66dd175"
      },
      "execution_count": null,
      "outputs": [
        {
          "output_type": "stream",
          "name": "stdout",
          "text": [
            "Using For Loop: ['Red T-shirt', 'Black T-shirt', 'Red Pants', 'Black Pants']\n",
            "Using List Comprehension: ['Red T-shirt', 'Red Pants', 'Black T-shirt', 'Black Pants']\n"
          ]
        }
      ]
    },
    {
      "cell_type": "code",
      "source": [
        "#Example-12: Combining all numbers in the list. (Nestesd For)\n",
        "\n",
        "numbers = [[0,1,2],[3,4,5],[6],[7,8,9,10]]\n",
        "ints=[]\n",
        "\n",
        "#Using For Loop:\n",
        "for sublist in numbers:\n",
        "  if sublist:\n",
        "    for num in sublist:\n",
        "      ints.append(num)\n",
        "print(\"Using For Loop:\",ints)\n",
        "\n",
        "#Using List Comprehension:\n",
        "combos=[num for sublist in numbers if sublist for num in sublist]\n",
        "print(\"Using List Comprehension:\",ints)"
      ],
      "metadata": {
        "colab": {
          "base_uri": "https://localhost:8080/"
        },
        "id": "7CgtCI7zHzCn",
        "outputId": "45be4d1a-df4e-40db-9ee6-d1c089c30e0f"
      },
      "execution_count": null,
      "outputs": [
        {
          "output_type": "stream",
          "name": "stdout",
          "text": [
            "Using For Loop: [0, 1, 2, 3, 4, 5, 6, 7, 8, 9, 10]\n",
            "Using List Comprehension: [0, 1, 2, 3, 4, 5, 6, 7, 8, 9, 10]\n"
          ]
        }
      ]
    },
    {
      "cell_type": "code",
      "source": [
        "#Example-13: Printing lower consonants from a list. (Nestesd if statements)\n",
        "\n",
        "fruits=[\"mango\",\"APPLE\",\"banana\",\"strawberry\"]\n",
        "\n",
        "#Using For Loop\n",
        "consonants = []\n",
        "for i in fruits:\n",
        "  if i.islower():\n",
        "    for consonant in i:\n",
        "      if consonant not in \"aeiou\":\n",
        "        consonants.append(consonant)\n",
        "print(\"Using For Loop:\",consonants)\n",
        "\n",
        "#Using List Comprehension:\n",
        "consonants=[consonant for i in fruits if i.islower() for consonant in i if consonant not in \"aeiou\"]\n",
        "print(\"Using List Comprehension:\",consonants)       "
      ],
      "metadata": {
        "id": "tHW8C6Y8gwPL",
        "colab": {
          "base_uri": "https://localhost:8080/"
        },
        "outputId": "81257313-f850-4397-bdd2-b623149d3c83"
      },
      "execution_count": null,
      "outputs": [
        {
          "output_type": "stream",
          "name": "stdout",
          "text": [
            "Using For Loop: ['m', 'n', 'g', 'b', 'n', 'n', 's', 't', 'r', 'w', 'b', 'r', 'r', 'y']\n",
            "Using List Comprehension: ['m', 'n', 'g', 'b', 'n', 'n', 's', 't', 'r', 'w', 'b', 'r', 'r', 'y']\n"
          ]
        }
      ]
    },
    {
      "cell_type": "code",
      "source": [
        "#Example-13: The simplest form of a list comprehension is a good substitute for the built-in `map`.\n",
        "\n",
        "Usingmap = list(map(str, [42,73,0,15,10]))\n",
        "print(\"Using map:\",Usingmap)\n",
        "UsingListCom = [str(num) for num in [42,73,0,15,10]]\n",
        "print(\"Using List Comprehension:\", UsingListCom)"
      ],
      "metadata": {
        "colab": {
          "base_uri": "https://localhost:8080/"
        },
        "id": "iXBtyDW0LDdr",
        "outputId": "7d16df85-f1ac-4567-e2a2-f424a5e3af5d"
      },
      "execution_count": null,
      "outputs": [
        {
          "output_type": "stream",
          "name": "stdout",
          "text": [
            "Using map: ['42', '73', '0', '15', '10']\n",
            "Using List Comprehension: ['42', '73', '0', '15', '10']\n"
          ]
        }
      ]
    },
    {
      "cell_type": "code",
      "source": [
        "#Example-14: List comprehensions with conditions tend to be good substitute for the built-in `filter`.\n",
        "\n",
        "Usingfilter1 = list(filter(bool, [0,1,\" \", (1,2), \"charles\"]))\n",
        "print(\"Using map-1:\",Usingfilter1)\n",
        "UsingListCom1 = [val for val in [0,1,\" \", (1,2), \"charles\"] if val]\n",
        "print(\"Using List Comprehension-1:\", UsingListCom1)\n",
        "\n",
        "Usingfilter2 = list(filter(lambda char: char not in \"aeiou\",\"Hello There\"))\n",
        "print(\"\\nUsing map-2:\",Usingfilter2)\n",
        "UsingListCom2 = [char for char in \"Hello There\" if char not in \"aeiou\"]\n",
        "print(\"Using List Comprehension-2:\", UsingListCom2)"
      ],
      "metadata": {
        "colab": {
          "base_uri": "https://localhost:8080/"
        },
        "id": "Al8Knr1jY0Ef",
        "outputId": "17088a43-018b-4b3e-f3b3-4c088ce5a383"
      },
      "execution_count": null,
      "outputs": [
        {
          "output_type": "stream",
          "name": "stdout",
          "text": [
            "Using map-1: [1, ' ', (1, 2), 'charles']\n",
            "Using List Comprehension-1: [1, ' ', (1, 2), 'charles']\n",
            "\n",
            "Using map-2: ['H', 'l', 'l', ' ', 'T', 'h', 'r']\n",
            "Using List Comprehension-2: ['H', 'l', 'l', ' ', 'T', 'h', 'r']\n"
          ]
        }
      ]
    },
    {
      "cell_type": "code",
      "source": [
        "#Example-15: Proof of how list comprehension is faster than a For Loop.\n",
        "\n",
        "import time\n",
        "\n",
        "#For Loop\n",
        "start = time.time()\n",
        "mylist = []\n",
        "for i in range(1000000):\n",
        "    mylist.append(i+1)\n",
        "end = time.time()\n",
        "print(\"For Loop Time:\",end - start)\n",
        "\n",
        "#List Comprehension\n",
        "start = time.time()\n",
        "mylist = [i+1 for i in range(1000000)]\n",
        "end = time.time()\n",
        "print(\"List Comprehension Time:\",end - start)\n",
        "\n",
        "#But when we want to perform some computations without creating a list than For Loops are faster than List Comprehension.\n",
        "\n",
        "#For Loop\n",
        "start = time.time()\n",
        "for i in range(1000000):\n",
        "    i+1\n",
        "end = time.time()\n",
        "print(\"\\nFor Loop Time:\",end - start)\n",
        "\n",
        "#List Comprehension\n",
        "start = time.time()\n",
        "[i+1 for i in range(1000000)]\n",
        "end = time.time()\n",
        "print(\"List Comprehension Time:\",end - start)\n"
      ],
      "metadata": {
        "colab": {
          "base_uri": "https://localhost:8080/"
        },
        "id": "wsq6ekCuRfCX",
        "outputId": "21b96cfa-04de-4bd5-e6b2-8793fd2a6507"
      },
      "execution_count": null,
      "outputs": [
        {
          "output_type": "stream",
          "name": "stdout",
          "text": [
            "For Loop Time: 0.17840886116027832\n",
            "List Comprehension Time: 0.0899956226348877\n",
            "\n",
            "For Loop Time: 0.08726358413696289\n",
            "List Comprehension Time: 0.1208188533782959\n"
          ]
        }
      ]
    },
    {
      "cell_type": "markdown",
      "source": [
        "#Conclusion:\n",
        "\n",
        "--> Each list comprehension is equivalent to a for loop that successively calls .append on a list that is initialised empty.\n",
        "\n",
        "--> List Comprehensions can nest arbitrarily many for loops and if statements.\n",
        "\n",
        "--> Nesting if statements is equivalent to combining conditions with AND.\n",
        "\n",
        "--> `map` and `filter` can often be replaced with List Comprehensions.\n",
        "\n",
        "--> List comprehensions are faster than for loops to create lists.\n",
        "\n",
        "--> For loops are faster than list comprehensions to run functions."
      ],
      "metadata": {
        "id": "wY4veTFje3eJ"
      }
    },
    {
      "cell_type": "markdown",
      "source": [
        "# References:\n",
        "\n",
        "--> https://www.w3schools.com/python/python_lists_comprehension.asp\n",
        "\n",
        "--> https://realpython.com/list-comprehension-python/\n",
        "\n",
        "--> https://towardsdatascience.com/list-comprehensions-vs-for-loops-it-is-not-what-you-think-34071d4d8207"
      ],
      "metadata": {
        "id": "7pChIK_KjxZZ"
      }
    }
  ]
}